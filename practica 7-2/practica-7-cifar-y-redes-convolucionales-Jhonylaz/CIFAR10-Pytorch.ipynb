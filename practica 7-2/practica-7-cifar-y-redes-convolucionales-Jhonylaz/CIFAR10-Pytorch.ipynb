{
 "cells": [
  {
   "cell_type": "markdown",
   "metadata": {},
   "source": [
    "# Practica: Redes convolucionales"
   ]
  },
  {
   "cell_type": "code",
   "execution_count": 1,
   "metadata": {},
   "outputs": [],
   "source": [
    "#%connect_info\n",
    "import torch\n",
    "import torchvision\n",
    "import torch.nn as nn\n",
    "import torch.optim as optim\n",
    "from torch.autograd import Variable\n",
    "import torchvision.transforms as transforms\n",
    "import numpy as np\n",
    "from torchvision.datasets import CIFAR10\n",
    "from torchvision.datasets import MNIST\n",
    "import matplotlib.pyplot as plt\n",
    "import matplotlib.cm as cm\n",
    "from ipywidgets import interact, interact_manual, interactive, fixed"
   ]
  },
  {
   "cell_type": "code",
   "execution_count": 2,
   "metadata": {},
   "outputs": [],
   "source": [
    "def contarCorrectas(net,batch,labels,func=None):\n",
    "    '''Dado un batch y sus etiquetas, cuenta el numero de respuestas\n",
    "    correctas de una red, el parametro func aplica una modificacion al \n",
    "    tensor que contiene los datos'''\n",
    "    \n",
    "    if(func!=None):\n",
    "        batch=func(batch)\n",
    "        salidas=net(batch)\n",
    "    else:\n",
    "        salidas=net(batch)\n",
    "    respuestas=salidas.max(dim=1)[1]\n",
    "    cantidadCorrectas=(respuestas==labels).sum()\n",
    "    return cantidadCorrectas\n",
    "    \n",
    "def calcularPrecisionGlobal(net,data_loader,batch_size,func=None,cuda=False):\n",
    "    '''Calcula la precision de una red dado un data_loader,\n",
    "    recive una funcion que transforma los datos en caso de ser necesario'''\n",
    "    correctas=0\n",
    "    for (images,labels) in data_loader:\n",
    "        if(cuda and torch.cuda.is_available()):\n",
    "            images=images.cuda()\n",
    "            labels=labels.cuda()\n",
    "        correctas+=contarCorrectas(net,images,labels,func)        \n",
    "    correctas=correctas.data.tolist()\n",
    "    return (100*correctas)/(len(data_loader)*batch_size) "
   ]
  },
  {
   "cell_type": "markdown",
   "metadata": {},
   "source": [
    "# Cifar 10\n",
    "Es un conjunto de datos que tiene 60,000 imagenes de 32x32 a color de 10 clases distintas (cada clase con 6,000 elementos).\n",
    "Las clases de este conjunto de datos corresponden a:\n",
    "airplane, automobile, bird, cat, deer, dog, frog, horse, ship, y truck.\n",
    "\n",
    "Podemos descargar CIFAR-10 con el modulo de torchvision."
   ]
  },
  {
   "cell_type": "code",
   "execution_count": 3,
   "metadata": {},
   "outputs": [
    {
     "name": "stdout",
     "output_type": "stream",
     "text": [
      "Files already downloaded and verified\n",
      "Files already downloaded and verified\n"
     ]
    }
   ],
   "source": [
    "#Cargamos los datos de este conjunto en las variables correspondientes al igual que el caso de MNIST\n",
    "trainset = torchvision.datasets.CIFAR10(root='./data', train=True,\n",
    "                                        download=True, transform=transforms.ToTensor())\n",
    "testset = torchvision.datasets.CIFAR10(root='./data', train=False,\n",
    "                                       download=True, transform=transforms.ToTensor())\n",
    "\n",
    "trainloader = torch.utils.data.DataLoader(trainset, batch_size=4,\n",
    "                                          shuffle=True, num_workers=2)\n",
    "\n",
    "testloader = torch.utils.data.DataLoader(testset, batch_size=4,\n",
    "                                         shuffle=False, num_workers=2)\n",
    "\n",
    "classes = ('plane', 'car', 'bird', 'cat',\n",
    "           'deer', 'dog', 'frog', 'horse', 'ship', 'truck')"
   ]
  },
  {
   "cell_type": "markdown",
   "metadata": {},
   "source": [
    "Para resolver el problema de clasificación de las imágenes de CIFAR-10 usaremos una red neuronal \n",
    "cuya arquitectura sea la siguiente:\n",
    "\n",
    "* Una capa convolucional de entrada con un filtro de (5,5) y 64 filtros de salida con activación ReLu\n",
    "* Una capa de MaxPooling de (3,3)\n",
    "* Otra capa convolucional con un filtro de (5,5) y 32 filtros de salida con activación ReLu\n",
    "* Una capa de MaxPooling de (3,3)\n",
    "* Una capa completamente conectada con 384 neuronas,cuya activacion es ReLu\n",
    "* Una capa completamente conectada con 192 neuronas,cuya activacion es ReLu\n",
    "* Finalmente,una capa de salida con 10 neuronas\n",
    "\n"
   ]
  },
  {
   "cell_type": "code",
   "execution_count": 4,
   "metadata": {},
   "outputs": [],
   "source": [
    "#airplane, automobile, bird, cat, deer, dog, frog, horse, ship, and truck.\n",
    "import torch.nn.functional as F\n",
    "class CIFAR_NET(nn.Module):\n",
    "    def __init__(self):\n",
    "        '''\n",
    "        Construcción de la Red, define las capas que se utiizaran.\n",
    "        '''\n",
    "        super(CIFAR_NET, self).__init__()\n",
    "        #Definimos las capas que necesitamos para esta red \n",
    "        self.conv1=nn.Conv2d(3,64,kernel_size=(5,5))#,stride=5)\n",
    "        self.pool=nn.MaxPool2d(kernel_size=(3,3))#,stride=3)\n",
    "        self.norm1=nn.BatchNorm2d(64)\n",
    "        self.norm2=nn.BatchNorm2d(32)\n",
    "        self.conv2=nn.Conv2d(64,32,kernel_size=(5,5))#,stride=5)\n",
    "        self.fc1=nn.Linear(32,384)\n",
    "        self.fc2=nn.Linear(384,192)\n",
    "        self.fc3=nn.Linear(192,10)\n",
    "\n",
    "    def forward(self, x,Norm=0):\n",
    "        '''\n",
    "        Define el orden con el que se realizará la propagación hacia adelante\n",
    "        de la red.\n",
    "        '''\n",
    "        #Definimos el orden  en que se ejecutaran en estas capas\n",
    "        x=F.relu(self.conv1(x))\n",
    "        x=self.pool(x)\n",
    "        #Esta condicional es para normalizar los datos en caso de que se pida\n",
    "        if Norm==1:\n",
    "            x=self.norm1(x)\n",
    "        x=F.relu(self.conv2(x))\n",
    "        x=self.pool(x)\n",
    "        if Norm==1:\n",
    "            x=self.norm2(x)\n",
    "        x=torch.flatten(x, 1)\n",
    "        x=F.relu(self.fc1(x))\n",
    "        x=F.relu(self.fc2(x))\n",
    "        x=self.fc3(x)\n",
    "        return(x)\n",
    "    def train(self,epochs,data_loader,norm,criterion,optimizer,cuda=False):\n",
    "        '''\n",
    "        Define una función de entrenamiento, ten en cuenta la forma en la que llegan \n",
    "        los datos de data_loader, e itera sobre ellos. Realiza también el caso \n",
    "        en que se llegue a utilizar cuda. Muestra una gráfica al finalizar el\n",
    "        entrenamiento usando el lost obtenido.\n",
    "        '''\n",
    "        E=[]\n",
    "        #Definimos diferentes optimizadores que podemos usar\n",
    "        if optimizer==0:\n",
    "            algoritmo=optim.SGD(self.parameters(), lr=0.01)\n",
    "        if optimizer==1:\n",
    "            algoritmo=optim.Adam(self.parameters(), lr=0.01)\n",
    "        if optimizer==2:\n",
    "            algoritmo=optim.Adagrad(self.parameters(), lr=0.01)\n",
    "        #Definimos diferentes criterios que podemos usar    \n",
    "        if criterion==0:\n",
    "            criterio=nn.CrossEntropyLoss()\n",
    "        if criterion==1:\n",
    "            criterio=nn.CTCLoss()\n",
    "        if criterion==2:\n",
    "            criterio=nn.GaussianNLLLoss()\n",
    "        #Las veces que vamos a entrenar la red    \n",
    "        for ciclos in range(epochs):\n",
    "            #error_acum nos ayudara a ir sumando el error en cada ciclo\n",
    "            error_acum=0.0\n",
    "            for i,data in enumerate(data_loader,0):\n",
    "                #obtenemos los datos entrada y las etiquetas de cada lote\n",
    "                entradas,etiquetas= data\n",
    "                #Definimos el entrenamiento\n",
    "                algoritmo.zero_grad()\n",
    "                salidas=self.forward(entradas,norm)   \n",
    "                error=criterio(salidas,etiquetas) \n",
    "                error.backward()\n",
    "                algoritmo.step()\n",
    "                error_acum+=error.item()\n",
    "                #La siguiente condicional es para reiniciar el valor de error_acum en cada lote \n",
    "                if i % 2000 == 1999:\n",
    "                    #Nos ayuda a guardar los errores en cada ciclo para despues graficarlos\n",
    "                    E.append(error_acum/2000)\n",
    "                    error_acum = 0.0   \n",
    "        self.errores=E\n",
    "        #Graficamos\n",
    "        x = np.arange(len(self.errores))\n",
    "        plt.title(\"Error\")\n",
    "        plt.xlabel(\"ciclo\")\n",
    "        plt.scatter(x, self.errores)"
   ]
  },
  {
   "cell_type": "code",
   "execution_count": 5,
   "metadata": {},
   "outputs": [],
   "source": [
    "#Cargamos los datos de la red ya entrenada\n",
    "PATH = './CIFAR_50.pth'\n",
    "#RedCIFAR=CIFAR_NET()\n",
    "#RedCIFAR.load_state_dict(torch.load(PATH))"
   ]
  },
  {
   "cell_type": "markdown",
   "metadata": {},
   "source": [
    "Entrenamos la red por 100 ciclos con optimizador SGD y entropia cruzada\n",
    "\n",
    "Los datos de entrada no estan normalizados."
   ]
  },
  {
   "cell_type": "code",
   "execution_count": 6,
   "metadata": {},
   "outputs": [
    {
     "data": {
      "image/png": "[encoded data removed]",
      "text/plain": [
       "<Figure size 640x480 with 1 Axes>"
      ]
     },
     "metadata": {},
     "output_type": "display_data"
    }
   ],
   "source": [
    "RedCIFAR=CIFAR_NET()\n",
    "#Define el criterio que usaras para evaluar a la red y un optimizador.\n",
    "#Y define el preprosesamiento necesario en caso de requerir usar cuda.\n",
    "\n",
    "#Entrenamos la red durante 50 pasos(o los que consideres necesarios),con entropia cruzada y el optimizador \n",
    "RedCIFAR.train(50,trainloader,0,0,0,cuda=False) #puedes agregar cuda=True si tienes GPU disponible"
   ]
  },
  {
   "cell_type": "code",
   "execution_count": 7,
   "metadata": {},
   "outputs": [],
   "source": [
    "#Gurdamos los datos de nuestra red entrenada\n",
    "torch.save(RedCIFAR.state_dict(), PATH)"
   ]
  },
  {
   "cell_type": "code",
   "execution_count": 8,
   "metadata": {},
   "outputs": [
    {
     "data": {
      "text/plain": [
       "<All keys matched successfully>"
      ]
     },
     "execution_count": 8,
     "metadata": {},
     "output_type": "execute_result"
    }
   ],
   "source": [
    "RedCIFAR=CIFAR_NET()\n",
    "RedCIFAR.load_state_dict(torch.load(PATH))"
   ]
  },
  {
   "cell_type": "code",
   "execution_count": 9,
   "metadata": {},
   "outputs": [
    {
     "name": "stdout",
     "output_type": "stream",
     "text": [
      "Precision en conjunto de entrenamiento: 86.5180%\n",
      "Precision en conjunto de validacion: 61.7600%\n"
     ]
    }
   ],
   "source": [
    "prec_train =calcularPrecisionGlobal(RedCIFAR,trainloader,4)\n",
    "prec_val   =calcularPrecisionGlobal(RedCIFAR,testloader,4)\n",
    "print(\"Precision en conjunto de entrenamiento: %.4f%%\"%(prec_train))\n",
    "print(\"Precision en conjunto de validacion: %.4f%%\"%(prec_val))"
   ]
  },
  {
   "cell_type": "markdown",
   "metadata": {},
   "source": [
    "Gracias a la funcion anterior podemos ver que nuestra red tiene una buena precision en el conjunto de entrenamiento pero en el de validación no tanto, tal vez si entrenamos un poco más la red la precision mejorara."
   ]
  },
  {
   "cell_type": "markdown",
   "metadata": {},
   "source": [
    "## Ejercicios:\n",
    "* Crea las funciones necesarias para poder introducir datos concretos a la red (una vez ya entrenada) y obtener el resultado que esta devuelve. Muestra la imagen con la que se está alimentando a la red.\n",
    "* Con la red neuronal entrenada obten la matriz de confusion de ambos conjuntos (entrenamiento y prueba) con las 10 clases posibles. Para ello en lugar de tener en cuenta únicamente los valores de verdaderos positivos, verdaderos negativos, etc, se usarán los 10 elementos, por lo que debemos tener en cuenta cuantos de cada categoria fueron clasificados incorrectamente, y en cual fue.\n",
    "* Despues de cada MaxPool normaliza las salidas y contrasta el rendimiento de la red."
   ]
  },
  {
   "cell_type": "markdown",
   "metadata": {},
   "source": [
    "## Observación "
   ]
  },
  {
   "cell_type": "code",
   "execution_count": 10,
   "metadata": {},
   "outputs": [],
   "source": [
    "#Definimos la funcion que nos ayudara a graficar las imagenes\n",
    "def imshow(img):\n",
    "    npimg = img.numpy()\n",
    "    plt.imshow(np.transpose(npimg, (1, 2, 0)))\n",
    "    plt.show()"
   ]
  },
  {
   "cell_type": "code",
   "execution_count": 11,
   "metadata": {},
   "outputs": [
    {
     "data": {
      "application/vnd.jupyter.widget-view+json": {
       "model_id": "d604ff2f3b614d908e614d4c9591ea76",
       "version_major": 2,
       "version_minor": 0
      },
      "text/plain": [
       "interactive(children=(IntSlider(value=6250, description='index', max=12499, min=1), Output()), _dom_classes=('…"
      ]
     },
     "metadata": {},
     "output_type": "display_data"
    }
   ],
   "source": [
    "#Volvemos nuestros datos in iterador para poder movernos en ellos\n",
    "dataiter=iter(trainloader)\n",
    "#La siguiente funcion nos ayuda a graficar las imagenes con la que se esta alimentando la red,  ver sus etiquetas y las predicciones que hace la red \n",
    "@interact(index = (1, len(dataiter) - 1))\n",
    "def muestraimg(index):\n",
    "    dataiter=iter(trainloader)\n",
    "    for i in range(index):\n",
    "        imagen,etiqueta= next(dataiter)\n",
    "    imshow(torchvision.utils.make_grid(imagen))\n",
    "    print(\"Etiquetas:\" ,' '.join(f'{classes[etiqueta[j]]:5s}' for j in range(4)))\n",
    "    salidas=RedCIFAR(imagen)\n",
    "    _, prediccion=torch.max(salidas,1)\n",
    "    print('Predicciones: ', ' '.join(f'{classes[prediccion[j]]:5s}'for j in range(4)))"
   ]
  },
  {
   "cell_type": "markdown",
   "metadata": {},
   "source": [
    "Como podemos ver la red predice a la perfeccion la imagen "
   ]
  },
  {
   "cell_type": "markdown",
   "metadata": {},
   "source": [
    "## Matriz de Confusion"
   ]
  },
  {
   "cell_type": "code",
   "execution_count": 12,
   "metadata": {},
   "outputs": [],
   "source": [
    "#Definimos nuestra matriz de confusion\n",
    "def matrizdeconfusion(red,data_loader):\n",
    "    #Obtenemos la matriz de confusion de cada etiqueta\n",
    "    for j in range(10):\n",
    "        dataiter=iter(data_loader)\n",
    "        predicciones=[]\n",
    "        etiquetas=[]\n",
    "        for i in range(len(dataiter)):\n",
    "            imagen,etiqueta=next(dataiter)\n",
    "            salidas=red(imagen)\n",
    "            _, prediccion=torch.max(salidas,1)\n",
    "            #Pasamos por cada elemento de dataiter y agregamos un 1 a etiquetas si es la etiqueta que necesitamos y 0 en otro caso, de mismo modo para predicciones \n",
    "            for k in range(4):\n",
    "                if etiqueta[k]==j:\n",
    "                    etiquetas.append(1)\n",
    "                else:\n",
    "                    etiquetas.append(0)\n",
    "                if prediccion[k]==j:\n",
    "                    predicciones.append(1)\n",
    "                else:\n",
    "                    predicciones.append(0)\n",
    "        #Obtenemos nuestra matriz de forma tradicional            \n",
    "        prediccion =np.array(predicciones).astype(bool)\n",
    "        etiquetas = np.array(etiquetas).astype(bool)\n",
    "    \n",
    "        matriz = np.zeros((2,2))\n",
    "        TP = np.sum(np.logical_and(prediccion, etiquetas))\n",
    "        matriz[0][0] = TP\n",
    "    \n",
    "        TN = np.logical_and(np.logical_not(prediccion), np.logical_not(etiquetas))\n",
    "        matriz[1][1] = np.sum(TN)\n",
    "    \n",
    "        FP = np.logical_and(np.logical_not(etiquetas), prediccion)\n",
    "        matriz[1][0] = np.sum(FP)\n",
    "    \n",
    "        FN = np.logical_and(etiquetas, np.logical_not(prediccion))\n",
    "        matriz[0][1] = np.sum(FN)\n",
    "        print(\"Matriz\",classes[j])\n",
    "        print( matriz)\n",
    "                  "
   ]
  },
  {
   "cell_type": "code",
   "execution_count": 13,
   "metadata": {},
   "outputs": [
    {
     "name": "stdout",
     "output_type": "stream",
     "text": [
      "Matriz plane\n",
      "[[ 4268.   732.]\n",
      " [  474. 44526.]]\n",
      "Matriz car\n",
      "[[ 4544.   456.]\n",
      " [  205. 44795.]]\n",
      "Matriz bird\n",
      "[[ 3914.  1086.]\n",
      " [  493. 44507.]]\n",
      "Matriz cat\n",
      "[[ 3786.  1214.]\n",
      " [ 1117. 43883.]]\n",
      "Matriz deer\n",
      "[[ 4123.   877.]\n",
      " [  706. 44294.]]\n",
      "Matriz dog\n",
      "[[ 4257.   743.]\n",
      " [ 1294. 43706.]]\n",
      "Matriz frog\n",
      "[[ 4443.   557.]\n",
      " [  421. 44579.]]\n",
      "Matriz horse\n",
      "[[ 4600.   400.]\n",
      " [  666. 44334.]]\n",
      "Matriz ship\n",
      "[[ 4658.   342.]\n",
      " [  732. 44268.]]\n",
      "Matriz truck\n",
      "[[ 4666.   334.]\n",
      " [  633. 44367.]]\n"
     ]
    }
   ],
   "source": [
    "matrizdeconfusion(RedCIFAR,trainloader)"
   ]
  },
  {
   "cell_type": "code",
   "execution_count": 14,
   "metadata": {},
   "outputs": [
    {
     "name": "stdout",
     "output_type": "stream",
     "text": [
      "Matriz plane\n",
      "[[ 623.  377.]\n",
      " [ 318. 8682.]]\n",
      "Matriz car\n",
      "[[ 706.  294.]\n",
      " [ 197. 8803.]]\n",
      "Matriz bird\n",
      "[[ 483.  517.]\n",
      " [ 378. 8622.]]\n",
      "Matriz cat\n",
      "[[ 419.  581.]\n",
      " [ 560. 8440.]]\n",
      "Matriz deer\n",
      "[[ 509.  491.]\n",
      " [ 374. 8626.]]\n",
      "Matriz dog\n",
      "[[ 601.  399.]\n",
      " [ 610. 8390.]]\n",
      "Matriz frog\n",
      "[[ 676.  324.]\n",
      " [ 276. 8724.]]\n",
      "Matriz horse\n",
      "[[ 676.  324.]\n",
      " [ 357. 8643.]]\n",
      "Matriz ship\n",
      "[[ 754.  246.]\n",
      " [ 392. 8608.]]\n",
      "Matriz truck\n",
      "[[ 729.  271.]\n",
      " [ 362. 8638.]]\n"
     ]
    }
   ],
   "source": [
    "matrizdeconfusion(RedCIFAR,testloader)"
   ]
  },
  {
   "cell_type": "markdown",
   "metadata": {},
   "source": [
    "Gracias a las matrices podemos ver que los gatos es lo que menos reconoce la red y que los camiones es lo que mejor reconoce en el conjunto de entrenamiento y en el de validacion"
   ]
  },
  {
   "cell_type": "markdown",
   "metadata": {},
   "source": [
    "## Datos Normalizados"
   ]
  },
  {
   "cell_type": "markdown",
   "metadata": {},
   "source": [
    "Entrenamos la red por 100 ciclos con optimizador SGD y entropia cruzada\n",
    "\n",
    "Los datos de entrada no estan normalizados.\n",
    "\n",
    "Normalizamos los datos despúes de cada Maxpool"
   ]
  },
  {
   "cell_type": "code",
   "execution_count": 15,
   "metadata": {},
   "outputs": [
    {
     "data": {
      "image/png": "[encoded data removed]",
      "text/plain": [
       "<Figure size 640x480 with 1 Axes>"
      ]
     },
     "metadata": {},
     "output_type": "display_data"
    }
   ],
   "source": [
    "RedCIFAR_Norm=CIFAR_NET()\n",
    "#RedCIFAR_Norm.load_state_dict(torch.load(PATH_N))\n",
    "RedCIFAR_Norm.train(50,trainloader,1,0,0,cuda=False)"
   ]
  },
  {
   "cell_type": "code",
   "execution_count": 16,
   "metadata": {},
   "outputs": [],
   "source": [
    "#Guardamos los datos \n",
    "PATH_N = './CIFAR_N_50.pth'\n",
    "torch.save(RedCIFAR_Norm.state_dict(), PATH_N)"
   ]
  },
  {
   "cell_type": "code",
   "execution_count": 17,
   "metadata": {},
   "outputs": [
    {
     "data": {
      "text/plain": [
       "<All keys matched successfully>"
      ]
     },
     "execution_count": 17,
     "metadata": {},
     "output_type": "execute_result"
    }
   ],
   "source": [
    "RedCIFAR_Norm=CIFAR_NET()\n",
    "RedCIFAR_Norm.load_state_dict(torch.load(PATH_N))"
   ]
  },
  {
   "cell_type": "code",
   "execution_count": 18,
   "metadata": {},
   "outputs": [
    {
     "name": "stdout",
     "output_type": "stream",
     "text": [
      "Precision en conjunto de entrenamiento: 16.3640%\n",
      "Precision en conjunto de validacion: 15.6200%\n"
     ]
    }
   ],
   "source": [
    "prec_train =calcularPrecisionGlobal(RedCIFAR_Norm,trainloader,4)\n",
    "prec_val   =calcularPrecisionGlobal(RedCIFAR_Norm,testloader,4)\n",
    "print(\"Precision en conjunto de entrenamiento: %.4f%%\"%(prec_train))\n",
    "print(\"Precision en conjunto de validacion: %.4f%%\"%(prec_val))"
   ]
  },
  {
   "cell_type": "markdown",
   "metadata": {},
   "source": [
    "Como podemos ver por la grafica y por la precisión tenemos que esta red se entreno de peor manera que la anterior por lo que concluimos que la primer red sin normalizar es más eficiente."
   ]
  },
  {
   "cell_type": "markdown",
   "metadata": {},
   "source": [
    "Referencias:\n",
    "* Krizhevsky , Nair , Hinton. CIFAR-10. https://www.cs.toronto.edu/~kriz/cifar.html\n",
    "* Pytorch, TORCH.NN, https://pytorch.org/docs/stable/nn.html\n",
    "* Goodfellow-et-al. (2016). Deep Learning. MIT Press. https://www.deeplearningbook.org/contents/convnets.html"
   ]
  },
  {
   "cell_type": "code",
   "execution_count": 21,
   "metadata": {},
   "outputs": [
    {
     "data": {
      "text/html": [
       "<style>\n",
       "    img {\n",
       "        display: block;\n",
       "\t\tmargin-left: auto;\n",
       "\t\tmargin-right: auto;\n",
       "\t}\n",
       "</style>\n"
      ],
      "text/plain": [
       "<IPython.core.display.HTML object>"
      ]
     },
     "execution_count": 21,
     "metadata": {},
     "output_type": "execute_result"
    }
   ],
   "source": [
    "from IPython.core.display import HTML\n",
    "def css_styling():\n",
    "    styles = open(\"styles/custom.css\", \"r\").read() #or edit path to custom.css\n",
    "    return HTML(styles)\n",
    "css_styling()"
   ]
  }
 ],
 "metadata": {
  "kernelspec": {
   "display_name": "Python 3 (ipykernel)",
   "language": "python",
   "name": "python3"
  },
  "language_info": {
   "codemirror_mode": {
    "name": "ipython",
    "version": 3
   },
   "file_extension": ".py",
   "mimetype": "text/x-python",
   "name": "python",
   "nbconvert_exporter": "python",
   "pygments_lexer": "ipython3",
   "version": "3.9.13"
  }
 },
 "nbformat": 4,
 "nbformat_minor": 4
}
