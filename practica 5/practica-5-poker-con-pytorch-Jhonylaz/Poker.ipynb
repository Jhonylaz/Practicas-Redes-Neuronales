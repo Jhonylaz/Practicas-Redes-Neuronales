{
 "cells": [
  {
   "cell_type": "markdown",
   "metadata": {},
   "source": [
    "## Pytorch\n",
    "\n",
    "Obtendremos los datos de la siguiente página.\n",
    "\n",
    "https://archive.ics.uci.edu/ml/machine-learning-databases/poker/\n",
    "\n",
    "Solo se usará el archivo **poker-hand-testing.data** el cual dividiremos en los conjuntos de entrenamiento y validación.\n",
    "\n",
    "Para instalar Pytorch puedes tu sistema operativo, tu instalador de paquetes de python y tus versiones, estaremos usando la versión 1.7.0 de pytorch, si tienes CUDA, también selecciona tu versión, en otro caso, \n",
    "puedes elegir None."
   ]
  },
  {
   "cell_type": "code",
   "execution_count": 1,
   "metadata": {},
   "outputs": [],
   "source": [
    "%matplotlib inline\n",
    "\n",
    "import matplotlib.pyplot as plt\n",
    "import matplotlib.cm as cm\n",
    "import json, matplotlib\n",
    "s = json.load( open(\"styles/bmh_matplotlibrc.json\") )\n",
    "matplotlib.rcParams.update(s)\n",
    "from IPython.core.pylabtools import figsize\n",
    "figsize(11, 5)\n",
    "colores = [\"#348ABD\", \"#A60628\",\"#06A628\"]"
   ]
  },
  {
   "cell_type": "code",
   "execution_count": 2,
   "metadata": {},
   "outputs": [],
   "source": [
    "from ipywidgets import interact, interactive, fixed, interact_manual\n",
    "import ipywidgets as widgets\n",
    "from IPython.display import display"
   ]
  },
  {
   "cell_type": "code",
   "execution_count": 3,
   "metadata": {},
   "outputs": [],
   "source": [
    "import torch\n",
    "from torch.autograd import Variable\n",
    "import torch.nn as nn\n",
    "import torch.optim as optim\n",
    "#Definimos el dispositivo que se usará.\n",
    "device = torch.device('cpu')"
   ]
  },
  {
   "cell_type": "code",
   "execution_count": 4,
   "metadata": {},
   "outputs": [],
   "source": [
    "import numpy as np\n",
    "import pickle\n",
    "from sklearn.model_selection import train_test_split\n",
    "from sklearn.metrics import confusion_matrix"
   ]
  },
  {
   "cell_type": "code",
   "execution_count": 5,
   "metadata": {},
   "outputs": [],
   "source": [
    "#Esta funcion nos ayudara a tener una matriz en donde la columna distinta de cero es\n",
    "#nuestra etiqueta\n",
    "def makeY(etiquetasEntrenamiento):\n",
    "    Y=[]\n",
    "    for i in range(len(etiquetasEntrenamiento)):\n",
    "        y=np.zeros(10)\n",
    "        y[int(etiquetasEntrenamiento[i])]=1\n",
    "        Y.append(y)\n",
    "    Y=np.array(Y)    \n",
    "    return Y    "
   ]
  },
  {
   "cell_type": "code",
   "execution_count": null,
   "metadata": {},
   "outputs": [],
   "source": []
  },
  {
   "cell_type": "code",
   "execution_count": 6,
   "metadata": {},
   "outputs": [],
   "source": [
    "def get_data(path):\n",
    "    '''\n",
    "    Función para obtener las matrices de entrenamiento y de validación\n",
    "    a partir de los datos que se encuentran en el archivo que se define en \n",
    "    el parámetro path.\n",
    "    '''\n",
    "    #Importamos nuestros datos\n",
    "    datos = np.loadtxt(open(data_path), delimiter=\",\")\n",
    "    #Revolvemos los datos aleatoriamente y escogemo el 70 porciento\n",
    "    #de los datos para nuestar matriz de entrenamiento con ayuda de sklearn\n",
    "    datos_train,datos_test= train_test_split(datos, test_size=0.30, random_state=1)\n",
    "    #Separamos los datos de las salidas esperadas\n",
    "    x_train=datos_train[:,:10]\n",
    "    y_train=datos_train[:,10:11]\n",
    "    x_test=datos_test[:,:10]\n",
    "    y_test=datos_test[:,10:11]\n",
    "    y_train=makeY(y_train)\n",
    "    y_test=makeY(y_test)\n",
    "    return x_train,y_train,x_test,y_test"
   ]
  },
  {
   "cell_type": "code",
   "execution_count": 7,
   "metadata": {},
   "outputs": [],
   "source": [
    "data_path ='./poker-hand-testing.data'\n",
    "## Define una función para obtener los datos, revuelvelos \n",
    "## aleatoriamente y dividelos en los conjuntos de validación y \n",
    "## de entrenamiento.\n",
    "X_train,Y_train,X_val,Y_val = get_data(data_path)"
   ]
  },
  {
   "cell_type": "markdown",
   "metadata": {},
   "source": [
    "Usaremos la biblioteca nn de pytorch para definir nuestro modelo de red neuronal, puedes \n",
    "ver los tipos de capas, funciones de activación y funciones de error con las que \n",
    "disponemos viendo la documentación de pytorch. Busque la definición de \n",
    "\n",
    "https://pytorch.org/docs/stable/nn.html"
   ]
  },
  {
   "cell_type": "code",
   "execution_count": 8,
   "metadata": {},
   "outputs": [],
   "source": [
    "class Poker(nn.Module):\n",
    "    def __init__(self,input_size,hidden,output_size):\n",
    "        '''\n",
    "        Define las caracteristicas de una red completamente conectada \n",
    "        de tres capas, recibe la cantidad de elementos de entrada, el \n",
    "        número de capas ocultas y el número de elementos de salida. \n",
    "        Entre cada capa agrega una función de activación logistica.\n",
    "        '''\n",
    "        super(Poker,self).__init__()\n",
    "        #Definimos nuestras capas que vamos a usar y nuestra funcion de activacion\n",
    "        self.W1=nn.Linear(input_size,hidden)\n",
    "        self.Log=nn.Sigmoid()\n",
    "        self.W2=nn.Linear(hidden,output_size)\n",
    "\n",
    "        \n",
    "    def feed_forward(self,X):\n",
    "        '''\n",
    "        Define una función que de como resultado realizar la propagación\n",
    "        hacia adelante de los elementos de X en la red definida.\n",
    "        '''\n",
    "        X=torch.from_numpy(X).to(torch.float32)\n",
    "        Z1=self.W1(X)\n",
    "        A1=self.Log(Z1)\n",
    "        Z2=self.W2(A1)\n",
    "        A2=self.Log(Z2)\n",
    "        self.A2=A2\n",
    "    \n",
    "    def back_propagate(self,X,Y):\n",
    "        '''\n",
    "        Define una función que realice la propagación hacia atras usando \n",
    "        la función de error de entropia cruzada.\n",
    "        '''\n",
    "        Y=torch.from_numpy(Y).to(torch.float32)\n",
    "        Entropia=torch.nn.CrossEntropyLoss()\n",
    "        error=Entropia(X,Y)\n",
    "        self.error=error\n",
    "    def train(self,train_X,train_Y,optimizer,ciclos=100):\n",
    "        '''\n",
    "        Define una función de entrenamiento para la red, la cual utilice\n",
    "        al conjunto de entrenamiento y el algoritmo de optimización que se \n",
    "        obtenga como parametro. Al finalizar los ciclos muestra la gráfica \n",
    "        del error.\n",
    "        '''\n",
    "        E=[]\n",
    "        for i in range(ciclos):\n",
    "            if optimizer==0:\n",
    "                algoritmo=optim.SGD(RedPoker.parameters(), lr=0.01)\n",
    "            if optimizer==1:\n",
    "                algoritmo=optim.Adam(RedPoker.parameters(), lr=0.01)\n",
    "            if optimizer==2:\n",
    "                algoritmo=optim.Adagrad(RedPoker.parameters(), lr=0.01)\n",
    "            self.feed_forward(train_X)\n",
    "            self.back_propagate(self.A2,train_Y)\n",
    "            algoritmo.zero_grad()\n",
    "            self.error.backward()\n",
    "            algoritmo.step()\n",
    "            E.append(self.error.item())\n",
    "        self.errores=E\n",
    "        x = np.arange(ciclos)\n",
    "        plt.title(\"Error\")\n",
    "        plt.xlabel(\"ciclo\")\n",
    "        plt.scatter(x, self.errores)  \n",
    "    def confusion(self,test_X,test_Y):\n",
    "        '''\n",
    "        Muestra la matriz de confusión que presenta los valores actuales de\n",
    "        la red, respecto al conjunto de datos que se decida usar.\n",
    "        '''\n",
    "        self.feed_forward(test_X)\n",
    "        A2=self.A2.detach().numpy()\n",
    "        pred_Y=np.zeros(A2.shape)\n",
    "        pred_Y[A2>=0.5]=1\n",
    "        \n",
    "        numElemems = test_Y.shape[0] * test_Y.shape[1]\n",
    "        prediccion = pred_Y.astype(bool)\n",
    "        etiquetas = test_Y.astype(bool)\n",
    "    \n",
    "        matriz = np.zeros((2,2))\n",
    "        TP = np.sum(np.logical_and(prediccion, etiquetas))\n",
    "        matriz[0][0] = TP\n",
    "    \n",
    "        TN = np.logical_and(np.logical_not(prediccion), np.logical_not(etiquetas))\n",
    "        matriz[1][1] = np.sum(TN)\n",
    "    \n",
    "        FP = np.logical_and(np.logical_not(etiquetas), prediccion)\n",
    "        matriz[1][0] = np.sum(FP)\n",
    "    \n",
    "        FN = np.logical_and(etiquetas, np.logical_not(prediccion))\n",
    "        matriz[0][1] = np.sum(FN)\n",
    "    \n",
    "        return matriz\n",
    "        "
   ]
  },
  {
   "cell_type": "markdown",
   "metadata": {},
   "source": [
    "Usando la misma definición de la red podemos modificar fácilmente los algoritmos de optimización que \n",
    "usamos para su entrenamiento. Prueba los siguientes algoritmos de optimización con tus mismos datos \n",
    "y con la misma cantidad de iteraciones.\n",
    "\n",
    "Las definiciones de estos algorimos las puedes ver en la documentación de pytorch\n",
    "\n",
    "https://pytorch.org/docs/stable/optim.html"
   ]
  },
  {
   "cell_type": "markdown",
   "metadata": {},
   "source": [
    "## Algoritmo stochastic gradient descent"
   ]
  },
  {
   "cell_type": "code",
   "execution_count": 9,
   "metadata": {},
   "outputs": [
    {
     "data": {
      "image/png": "[encoded data removed]",
      "text/plain": [
       "<Figure size 1100x500 with 1 Axes>"
      ]
     },
     "metadata": {},
     "output_type": "display_data"
    }
   ],
   "source": [
    "## Entrena una red utilizando el algoritmo de optimización de\n",
    "## stochastic gradient descent y muestra la matriz de confusión\n",
    "RedPoker=Poker(10,20,10)\n",
    "RedPoker.train(X_train,Y_train,optimizer=0)"
   ]
  },
  {
   "cell_type": "code",
   "execution_count": 10,
   "metadata": {},
   "outputs": [
    {
     "data": {
      "text/plain": [
       "array([[ 693446.,    6554.],\n",
       "       [2985693., 3314307.]])"
      ]
     },
     "execution_count": 10,
     "metadata": {},
     "output_type": "execute_result"
    }
   ],
   "source": [
    "RedPoker.confusion(X_train,Y_train)"
   ]
  },
  {
   "cell_type": "code",
   "execution_count": 11,
   "metadata": {},
   "outputs": [
    {
     "data": {
      "text/plain": [
       "array([[ 297233.,    2767.],\n",
       "       [1280174., 1419826.]])"
      ]
     },
     "execution_count": 11,
     "metadata": {},
     "output_type": "execute_result"
    }
   ],
   "source": [
    "RedPoker.confusion(X_val,Y_val)"
   ]
  },
  {
   "cell_type": "markdown",
   "metadata": {},
   "source": [
    "## Algoritmo Adam"
   ]
  },
  {
   "cell_type": "code",
   "execution_count": 12,
   "metadata": {},
   "outputs": [
    {
     "data": {
      "image/png": "[encoded data removed]",
      "text/plain": [
       "<Figure size 1100x500 with 1 Axes>"
      ]
     },
     "metadata": {},
     "output_type": "display_data"
    }
   ],
   "source": [
    "## Entrena una red utilizando el algoritmo de optimización Adam\n",
    "## y muestra la matriz de confusión\n",
    "RedPoker=Poker(10,20,10)\n",
    "RedPoker.train(X_train,Y_train,optimizer=1)"
   ]
  },
  {
   "cell_type": "code",
   "execution_count": 13,
   "metadata": {},
   "outputs": [
    {
     "data": {
      "text/plain": [
       "array([[ 646613.,   53387.],\n",
       "       [ 753387., 5546613.]])"
      ]
     },
     "execution_count": 13,
     "metadata": {},
     "output_type": "execute_result"
    }
   ],
   "source": [
    "RedPoker.confusion(X_train,Y_train)"
   ]
  },
  {
   "cell_type": "code",
   "execution_count": 14,
   "metadata": {},
   "outputs": [
    {
     "data": {
      "text/plain": [
       "array([[ 277094.,   22906.],\n",
       "       [ 322906., 2377094.]])"
      ]
     },
     "execution_count": 14,
     "metadata": {},
     "output_type": "execute_result"
    }
   ],
   "source": [
    "RedPoker.confusion(X_val,Y_val)"
   ]
  },
  {
   "cell_type": "markdown",
   "metadata": {},
   "source": [
    "## Algoritmo Adagrad"
   ]
  },
  {
   "cell_type": "code",
   "execution_count": 15,
   "metadata": {},
   "outputs": [
    {
     "data": {
      "image/png": "[encoded data removed]",
      "text/plain": [
       "<Figure size 1100x500 with 1 Axes>"
      ]
     },
     "metadata": {},
     "output_type": "display_data"
    }
   ],
   "source": [
    "## Entrena una red utilizando el algoritmo de optmización Adagrad\n",
    "## y muestra la matriz de confusión.\n",
    "RedPoker=Poker(10,20,10)\n",
    "RedPoker.train(X_train,Y_train,optimizer=2)"
   ]
  },
  {
   "cell_type": "code",
   "execution_count": 16,
   "metadata": {},
   "outputs": [
    {
     "data": {
      "text/plain": [
       "array([[ 646613.,   53387.],\n",
       "       [ 753387., 5546613.]])"
      ]
     },
     "execution_count": 16,
     "metadata": {},
     "output_type": "execute_result"
    }
   ],
   "source": [
    "RedPoker.confusion(X_train,Y_train)"
   ]
  },
  {
   "cell_type": "code",
   "execution_count": 17,
   "metadata": {},
   "outputs": [
    {
     "data": {
      "text/plain": [
       "array([[ 277094.,   22906.],\n",
       "       [ 322906., 2377094.]])"
      ]
     },
     "execution_count": 17,
     "metadata": {},
     "output_type": "execute_result"
    }
   ],
   "source": [
    "RedPoker.confusion(X_val,Y_val)"
   ]
  },
  {
   "cell_type": "markdown",
   "metadata": {},
   "source": [
    "Gracias a las matrices de confusion podemos concluir que el mejor algortimo es el de Adam para el entrenamiento de estos datos"
   ]
  },
  {
   "cell_type": "code",
   "execution_count": 18,
   "metadata": {},
   "outputs": [
    {
     "data": {
      "text/html": [
       "<style>\n",
       "    img {\n",
       "        display: block;\n",
       "\t\tmargin-left: auto;\n",
       "\t\tmargin-right: auto;\n",
       "\t}\n",
       "</style>\n"
      ],
      "text/plain": [
       "<IPython.core.display.HTML object>"
      ]
     },
     "execution_count": 18,
     "metadata": {},
     "output_type": "execute_result"
    }
   ],
   "source": [
    "from IPython.core.display import HTML\n",
    "def css_styling():\n",
    "    styles = open(\"styles/custom.css\", \"r\").read() #or edit path to custom.css\n",
    "    return HTML(styles)\n",
    "css_styling()"
   ]
  }
 ],
 "metadata": {
  "kernelspec": {
   "display_name": "Python 3 (ipykernel)",
   "language": "python",
   "name": "python3"
  },
  "language_info": {
   "codemirror_mode": {
    "name": "ipython",
    "version": 3
   },
   "file_extension": ".py",
   "mimetype": "text/x-python",
   "name": "python",
   "nbconvert_exporter": "python",
   "pygments_lexer": "ipython3",
   "version": "3.9.13"
  }
 },
 "nbformat": 4,
 "nbformat_minor": 4
}
